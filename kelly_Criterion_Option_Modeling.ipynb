{
  "nbformat": 4,
  "nbformat_minor": 0,
  "metadata": {
    "colab": {
      "name": "kelly Criterion Option Modeling.ipynb",
      "provenance": [],
      "authorship_tag": "ABX9TyMm1RFc7lWEJ8jLuorOx74c",
      "include_colab_link": true
    },
    "kernelspec": {
      "name": "python3",
      "display_name": "Python 3"
    },
    "language_info": {
      "name": "python"
    }
  },
  "cells": [
    {
      "cell_type": "markdown",
      "metadata": {
        "id": "view-in-github",
        "colab_type": "text"
      },
      "source": [
        "<a href=\"https://colab.research.google.com/github/jdgilhuly/kelly-criterion/blob/main/kelly_Criterion_Option_Modeling.ipynb\" target=\"_parent\"><img src=\"https://colab.research.google.com/assets/colab-badge.svg\" alt=\"Open In Colab\"/></a>"
      ]
    },
    {
      "cell_type": "markdown",
      "source": [
        "**Kelly Criterion/ Option Moddeling**"
      ],
      "metadata": {
        "id": "FfR5UAb61cji"
      }
    },
    {
      "cell_type": "code",
      "execution_count": 1,
      "metadata": {
        "id": "9YWL2gLuVIzd"
      },
      "outputs": [],
      "source": [
        "from math import log, sqrt, pi, exp\n",
        "from scipy.stats import norm\n",
        "from datetime import datetime, date\n",
        "import numpy as np\n",
        "import pandas as pd\n",
        "from pandas import DataFrame"
      ]
    },
    {
      "cell_type": "markdown",
      "source": [
        "#Kelly Criterion\n",
        "\n",
        "Kelly criterion, is a formula that determines the optimal theoretical size for a bet. It is valid when the expected returns are known. The Kelly bet size is found by maximizing the expected value of the logarithm of wealth, which is equivalent to maximizing the expected geometric growth rate."
      ],
      "metadata": {
        "id": "_Ue1faJZ1kwc"
      }
    },
    {
      "cell_type": "markdown",
      "source": [
        "##Gambling Formula Kelly (full losses)\n",
        "\n",
        "\n",
        "Where losing the bet involves losing the entire wager, the Kelly bet is:\n",
        "\n",
        "$f^* = p - \\frac{q}{b} = p + \\frac{p-1}{b}$\n",
        "\n",
        "where:\n",
        "\n",
        "$f^*$ is the fraction of the current bankroll to wager.\n",
        "\n",
        "$p$ is the probability of a win.\n",
        "\n",
        "$q$ is the probability of a loss ($q = 1-p$)\n",
        "\n",
        "$b$ is the proportion of the bet gained with a win. E.g. If betting 10 on a 2-to-1 odds bet, then $b = 20/10 = 2.0$\n",
        "\n"
      ],
      "metadata": {
        "id": "wEiqMoh2yC65"
      }
    },
    {
      "cell_type": "code",
      "source": [
        "def gambling_kelly(prob_of_win,proportion_bet_win):\n",
        "  fraction = prob_of_win-(prob_of_win/proportion_bet_win)\n",
        "  return fraction"
      ],
      "metadata": {
        "id": "qdGORsqv16N5"
      },
      "execution_count": 27,
      "outputs": []
    },
    {
      "cell_type": "markdown",
      "source": [
        "##Investment formula Kelly (partial losses)\n",
        "A more general form for partial losses (e.g. investing):\n",
        "\n",
        "$f^* = \\frac{p}{a} - \\frac{q}{b}$\n",
        "\n",
        "where:\n",
        "\n",
        "$f^*$ is the fraction of the assets to apply to the security.\n",
        "\n",
        "$p$ is the probability that the investment increases in value  \n",
        "\n",
        "$q$ is the probability that the investment decreases in value  ($q = 1-p$)\n",
        "\n",
        "$a$ is the fraction that is lost in a negative outcome. E.g. If the security price falls 10%, then $a=0.1$\n",
        "\n",
        "$b$ is the fraction that is gained in a positive outcome. E.g. If the security price rises 10%, then $b=0.1.$\n",
        "\n",
        "\n",
        "Note that the Kelly Criterion is only valid for known outcome probabilities, which is not the case with investments. It is not recommended that risk averse investors invest the full Kelly fraction.\n",
        "\n",
        "This formula can result in Kelly fractions higher than 1. In this case, it is theoretically advantageous to use leverage to purchase additional securities on margin."
      ],
      "metadata": {
        "id": "6sZBIcje022I"
      }
    },
    {
      "cell_type": "code",
      "source": [
        "def investment_kelly(prob_of_win,win_fraction,lost_fraction):\n",
        "    fraction = (prob_of_win/lost_fraction)- ((1-prob_of_win)/win_fraction)\n",
        "    return fraction"
      ],
      "metadata": {
        "id": "eHw0Ofnrw2_O"
      },
      "execution_count": 40,
      "outputs": []
    },
    {
      "cell_type": "markdown",
      "source": [
        "##Some Examples"
      ],
      "metadata": {
        "id": "mYYo6wobgc89"
      }
    },
    {
      "cell_type": "code",
      "source": [
        "def gambling_wager_amount(prob_of_success,bankroll,prop_bet_gained):\n",
        "      print('bankroll of {} * optimal fraction to wager {} = {}'.format(bankroll,gambling_kelly(prob_of_success,prop_bet_gained), bankroll * gambling_kelly(prob_of_success,prop_bet_gained)))\n",
        "      return bankroll * gambling_kelly(prob_of_success,2)"
      ],
      "metadata": {
        "id": "SbgAjYhCcb8H"
      },
      "execution_count": 36,
      "outputs": []
    },
    {
      "cell_type": "code",
      "source": [
        "gambling_wager_amount(0.6,1000,3)"
      ],
      "metadata": {
        "colab": {
          "base_uri": "https://localhost:8080/"
        },
        "id": "_jY-vh9mdxl7",
        "outputId": "fa065026-ca72-4f0d-91ec-f23353daf694"
      },
      "execution_count": 38,
      "outputs": [
        {
          "output_type": "stream",
          "name": "stdout",
          "text": [
            "bankroll of 1000 * optimal fraction to wager 0.4 = 400.0\n"
          ]
        },
        {
          "output_type": "execute_result",
          "data": {
            "text/plain": [
              "300.0"
            ]
          },
          "metadata": {},
          "execution_count": 38
        }
      ]
    },
    {
      "cell_type": "code",
      "source": [
        "def investing_wager_amount(prob_of_success,bankroll,win_fraction, loss_fraction):\n",
        "      print('bankroll of {} * optimal fraction to wager {} = {}'.format(bankroll,investment_kelly(prob_of_success,win_fraction,loss_fraction), investment_kelly(prob_of_success,win_fraction,loss_fraction)))\n",
        "      return bankroll * investment_kelly(prob_of_success,win_fraction,loss_fraction)"
      ],
      "metadata": {
        "id": "bB6KeLDVfZO_"
      },
      "execution_count": 41,
      "outputs": []
    },
    {
      "cell_type": "code",
      "source": [
        "investing_wager_amount(0.6,1000,0.2,0.1)"
      ],
      "metadata": {
        "colab": {
          "base_uri": "https://localhost:8080/"
        },
        "id": "plElo0FZgNmY",
        "outputId": "22cb5676-6bf2-40f9-b225-442b17805dd5"
      },
      "execution_count": 42,
      "outputs": [
        {
          "output_type": "stream",
          "name": "stdout",
          "text": [
            "bankroll of 1000 * optimal fraction to wager 3.999999999999999 = 3.999999999999999\n"
          ]
        },
        {
          "output_type": "execute_result",
          "data": {
            "text/plain": [
              "3999.999999999999"
            ]
          },
          "metadata": {},
          "execution_count": 42
        }
      ]
    },
    {
      "cell_type": "markdown",
      "source": [
        "#Option Modeling with Black-Scholes\n",
        "\n",
        "The Black–Scholes is a mathematical model for the dynamics of a financial market containing derivative investment instruments. The Black–Scholes formula gives a theoretical estimate of the price of European-style options and shows that the option has a unique price given the risk of the security and its expected return.\n",
        "\n",
        "The key idea behind the model is to hedge the option by buying and selling the underlying asset in just the right way and, as a consequence, to eliminate risk. This type of hedging is called \"continuously revised delta hedging\" and is the basis of more complicated hedging strategies such as those engaged in by investment banks and hedge funds.\n",
        "\n",
        "##Assumptions:\n",
        "\n",
        "**Now assumptions are made on the assets (which explain their names):**\n",
        "\n",
        "Riskless rate: The rate of return on the riskless asset is constant and thus called the risk-free interest rate.\n",
        "\n",
        "Random walk: The instantaneous log return of stock price is an infinitesimal random walk with drift; more precisely, the stock price follows a geometric Brownian motion, and it is assumed that its drift and volatility are constant (if they are time-varying, a suitably modified Black–Scholes formula can be deduced quite simply, as long as the volatility is not random).\n",
        "\n",
        "The stock does not pay a dividend.\n",
        "\n",
        "\n",
        "**The assumptions on the market are:**\n",
        "\n",
        "No arbitrage opportunity (i.e., there is no way to make a riskless profit).\n",
        "\n",
        "Ability to borrow and lend any amount, even fractional, of cash at the riskless rate.\n",
        "\n",
        "Ability to buy and sell any amount, even fractional, of the stock (this includes short selling).\n",
        "\n",
        "The above transactions do not incur any fees or costs (i.e., frictionless market)."
      ],
      "metadata": {
        "id": "NwFlQ9za5GCD"
      }
    },
    {
      "cell_type": "markdown",
      "source": [
        "##American Option\n",
        "\n",
        "Since the American option can be exercised at any time before the expiration date, the Black–Scholes equation becomes a variational inequality of the form:\n",
        "\n",
        "$\\frac {∂V}{∂t} + \\frac {1}{2}σ^2 S^2\\frac {∂^2V}{∂S^2}+rS \\frac {∂V}{∂S}- rV \\leq 0$\n",
        "\n",
        "together with $V(S,t)\\geq H(S)$ where $H(S)$ denotes the payoff at stock price $S$ and the terminal condition: $V(S,T)=H(S)$.\n",
        "\n",
        "Where:\n",
        "\n",
        "General and market related:\n",
        "\n",
        "$t$ is a time in years; with $t=0$ generally representing the present year.\n",
        "\n",
        "$r$ is the annualized risk-free interest rate, continuously compounded (also known as the force of interest).\n",
        "\n",
        "Asset related:\n",
        "\n",
        "$S(t)$ is the price of the underlying asset at time t, also denoted as $S_t$.\n",
        "\n",
        "$\\mu$  is the drift rate of $S$, annualized.\n",
        "\n",
        "$ \\sigma $  is the standard deviation of the stock's returns. This is the square root of the quadratic variation of the stock's log price process, a measure of its volatility.\n",
        "\n",
        "Option related:\n",
        "\n",
        "$V(S,t)$ is the price of the option as a function of the underlying asset S at time t, in particular:\n",
        "\n",
        "$C(S,t)$ is the price of a European call option\n",
        "\n",
        "$P(S,t)$ is the price of a European put option.\n",
        "\n",
        "$T$ is the time of option expiration.\n",
        "$\\tau$  is the time until maturity: $\\tau =T-t$.\n",
        "\n",
        "$K$ is the strike price of the option, also known as the exercise price."
      ],
      "metadata": {
        "id": "GRENYft06gLK"
      }
    },
    {
      "cell_type": "code",
      "source": [
        "def d1(S,K,T,r,sigma):\n",
        "    return(log(S/K)+(r+sigma**2/2.)*T)/(sigma*sqrt(T))\n",
        "    \n",
        "def d2(S,K,T,r,sigma):\n",
        "    return d1(S,K,T,r,sigma)-sigma*sqrt(T)\n",
        "\n",
        "def bs_call(S,K,T,r,sigma):\n",
        "    return S*norm.cdf(d1(S,K,T,r,sigma))-K*exp(-r*T)*norm.cdf(d2(S,K,T,r,sigma))\n",
        "  \n",
        "def bs_put(S,K,T,r,sigma):\n",
        "    return K*exp(-r*T)-S+bs_call(S,K,T,r,sigma)\n"
      ],
      "metadata": {
        "id": "MCfFFC_mWzFO"
      },
      "execution_count": 2,
      "outputs": []
    },
    {
      "cell_type": "code",
      "source": [
        "def call_implied_volatility(Price, S, K, T, r):\n",
        "    sigma = 0.001\n",
        "    while sigma < 1:\n",
        "        Price_implied = S * \\\n",
        "            norm.cdf(d1(S, K, T, r, sigma))-K*exp(-r*T) * \\\n",
        "            norm.cdf(d2(S, K, T, r, sigma))\n",
        "        if Price-(Price_implied) < 0.001:\n",
        "            return sigma\n",
        "        sigma += 0.001\n",
        "    return \"Not Found\"\n",
        "\n",
        "def put_implied_volatility(Price, S, K, T, r):\n",
        "    sigma = 0.001\n",
        "    while sigma < 1:\n",
        "        Price_implied = K*exp(-r*T)-S+bs_call(S, K, T, r, sigma)\n",
        "        if Price-(Price_implied) < 0.001:\n",
        "            return sigma\n",
        "        sigma += 0.001\n",
        "    return \"Not Found\"\n"
      ],
      "metadata": {
        "id": "7simo78jXAsn"
      },
      "execution_count": null,
      "outputs": []
    },
    {
      "cell_type": "code",
      "source": [
        "def call_delta(S,K,T,r,sigma):\n",
        "    return norm.cdf(d1(S,K,T,r,sigma))\n",
        "def call_gamma(S,K,T,r,sigma):\n",
        "    return norm.pdf(d1(S,K,T,r,sigma))/(S*sigma*sqrt(T))\n",
        "def call_vega(S,K,T,r,sigma):\n",
        "    return 0.01*(S*norm.pdf(d1(S,K,T,r,sigma))*sqrt(T))\n",
        "def call_theta(S,K,T,r,sigma):\n",
        "    return 0.01*(-(S*norm.pdf(d1(S,K,T,r,sigma))*sigma)/(2*sqrt(T)) - r*K*exp(-r*T)*norm.cdf(d2(S,K,T,r,sigma)))\n",
        "def call_rho(S,K,T,r,sigma):\n",
        "    return 0.01*(K*T*exp(-r*T)*norm.cdf(d2(S,K,T,r,sigma)))\n",
        "    \n",
        "def put_delta(S,K,T,r,sigma):\n",
        "    return -norm.cdf(-d1(S,K,T,r,sigma))\n",
        "def put_gamma(S,K,T,r,sigma):\n",
        "    return norm.pdf(d1(S,K,T,r,sigma))/(S*sigma*sqrt(T))\n",
        "def put_vega(S,K,T,r,sigma):\n",
        "    return 0.01*(S*norm.pdf(d1(S,K,T,r,sigma))*sqrt(T))\n",
        "def put_theta(S,K,T,r,sigma):\n",
        "    return 0.01*(-(S*norm.pdf(d1(S,K,T,r,sigma))*sigma)/(2*sqrt(T)) + r*K*exp(-r*T)*norm.cdf(-d2(S,K,T,r,sigma)))\n",
        "def put_rho(S,K,T,r,sigma):\n",
        "    return 0.01*(-K*T*exp(-r*T)*norm.cdf(-d2(S,K,T,r,sigma)))"
      ],
      "metadata": {
        "id": "lBZubYhIXAn1"
      },
      "execution_count": null,
      "outputs": []
    },
    {
      "cell_type": "code",
      "source": [
        "call_delta(150,160,20,0.02,0.3491)"
      ],
      "metadata": {
        "colab": {
          "base_uri": "https://localhost:8080/"
        },
        "id": "_iFgrCsAXZLD",
        "outputId": "62c97f3d-3330-41a1-c37b-f72d6f6e4961"
      },
      "execution_count": null,
      "outputs": [
        {
          "output_type": "execute_result",
          "data": {
            "text/plain": [
              "0.8402491338582363"
            ]
          },
          "metadata": {},
          "execution_count": 12
        }
      ]
    }
  ]
}